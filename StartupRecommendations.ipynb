{
 "cells": [
  {
   "cell_type": "markdown",
   "metadata": {},
   "source": [
    "Purpose of this code:\n",
    "\n",
    "Uses a user's profile with established preferences (liked songs, with details connecting to emotional tags) to suggest other songs that are most similar to the ones the user already likes. This is intended to be a supplemental recommender function, that will record all of the preferences a user demonstrates, and gives that user other songs they might like without any current user input. \n",
    "\n",
    "Every time a user rates a song, or requests another song that is more \"happy\", this portion of the code will update the user's preferences. It will record all of these preferences and try to suggest new songs that most accurately fit the user's preferences. A user's listening history will be recorded and then used to find songs that have similar tag counts. "
   ]
  },
  {
   "cell_type": "code",
   "execution_count": null,
   "metadata": {
    "collapsed": true
   },
   "outputs": [],
   "source": [
    "import json\n",
    "\n",
    "#user will have certain outputs pulled from the user file\n",
    "    #file will contain each emotional tags and how many times they've liked a song with each tag\n",
    "    \n",
    "    #on startup, algorithm gives the top 10 songs that align with their listening habits\n",
    "        #user can also ask for top 10 songs in line with their preferences within a given emotional tag\n",
    "            #would be a happy song that has received the same number of happy tags as previously liked songs\n",
    "\n",
    "#song - song object\n",
    "#userSongLog - contains liked songs\n",
    "#userTags - how many songs from each tag the user has liked\n",
    "def recordSong(song, userSongLog, userTags):\n",
    "    if song not in userSongLog:\n",
    "        userSongLog.songs.append(song)\n",
    "        for tag in userTags:\n",
    "            userTags[tag] += 1\n",
    "    return\n",
    "            \n",
    "def generateTopSuggestions(tag):\n",
    "    \n",
    "    \n",
    "    return\n",
    "\n",
    "\n",
    "    \n",
    "    \n",
    "    "
   ]
  }
 ],
 "metadata": {
  "kernelspec": {
   "display_name": "Python 2",
   "language": "python",
   "name": "python2"
  },
  "language_info": {
   "codemirror_mode": {
    "name": "ipython",
    "version": 2
   },
   "file_extension": ".py",
   "mimetype": "text/x-python",
   "name": "python",
   "nbconvert_exporter": "python",
   "pygments_lexer": "ipython2",
   "version": "2.7.10"
  }
 },
 "nbformat": 4,
 "nbformat_minor": 0
}
