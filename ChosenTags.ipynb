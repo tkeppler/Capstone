{
 "cells": [
  {
   "cell_type": "code",
   "execution_count": null,
   "metadata": {
    "collapsed": true
   },
   "outputs": [],
   "source": [
    "LOVE_TAGS = ['Love', 'romantic', 'love songs', 'love song', 'lovesongs', 'romance', 'lovesong', 'amor']\n",
    "\n",
    "PRETTY_TAGS = ['beautiful', 'pretty']\n",
    "\n",
    "RELAX_TAGS = ['chillout', 'chill', 'chill out', 'chilled', 'chill-out', 'chillax', 'relaxed', 'relaxing', 'peaceful', 'Relaxed']\n",
    "\n",
    "SAD_TAGS = ['sad', 'sad song', 'sadness', 'melancholy', 'melancholic']\n",
    "\n",
    "HAPPY_TAGS = ['happy', 'feel good', 'feelgood', 'makes me happy', 'good mood', 'cheerful', 'feel good music', 'joyful']\n",
    "\n",
    "\n",
    "\n",
    "\n",
    "MIS_TAGS = ['mellow', 'sexy']\n",
    "\n",
    "tags = []"
   ]
  }
 ],
 "metadata": {
  "kernelspec": {
   "display_name": "Python 2",
   "language": "python",
   "name": "python2"
  },
  "language_info": {
   "codemirror_mode": {
    "name": "ipython",
    "version": 2
   },
   "file_extension": ".py",
   "mimetype": "text/x-python",
   "name": "python",
   "nbconvert_exporter": "python",
   "pygments_lexer": "ipython2",
   "version": "2.7.10"
  }
 },
 "nbformat": 4,
 "nbformat_minor": 0
}
