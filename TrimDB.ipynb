{
 "cells": [
  {
   "cell_type": "code",
   "execution_count": null,
   "metadata": {
    "collapsed": true
   },
   "outputs": [],
   "source": [
    "# attempt to trim db to only tags we care about?\n",
    "##### LETS ASK SHILAD IF HE THINKS THIS IS A GOOD IDEA\n",
    "\n",
    "import os\n",
    "import sys\n",
    "import sqlite3\n",
    "import ChosenTags\n",
    "\n",
    "chosenTags = ChosenTags.tags\n",
    "\n",
    "def sanitize(tag):\n",
    "    \"\"\"\n",
    "    sanitize a tag so it can be included or queried in the db\n",
    "    \n",
    "    author: Thierry Bertin-Mahieux (2011) Columbia University tb2332@columbia.edu\n",
    "    \"\"\"\n",
    "    tag = tag.replace(\"'\",\"''\")\n",
    "    tag = tag.lowercase()\n",
    "    return tag\n",
    "\n",
    "def getAllSongs(connection):\n",
    "    sql = \"SELECT tids FROM tids\"\n",
    "    res = connection.execute(sql)\n",
    "    tracks = res.fetchall()\n",
    "    yield tracks\n",
    "\n",
    "def main():\n",
    "    dbfile = \"lastfm_tags.db\"\n",
    "    conn = sqlite3.connect(dbfile)\n",
    "    # get all tids\n",
    "    for tracks in getAllSongs(conn):\n",
    "    # for all tids, get tag values for chosen tags\n",
    "        for tags in chosenTags:\n",
    "            \n",
    "    \n",
    "    conn.close()"
   ]
  }
 ],
 "metadata": {
  "kernelspec": {
   "display_name": "Python 2",
   "language": "python",
   "name": "python2"
  },
  "language_info": {
   "codemirror_mode": {
    "name": "ipython",
    "version": 2
   },
   "file_extension": ".py",
   "mimetype": "text/x-python",
   "name": "python",
   "nbconvert_exporter": "python",
   "pygments_lexer": "ipython2",
   "version": "2.7.10"
  }
 },
 "nbformat": 4,
 "nbformat_minor": 0
}
